{
 "cells": [
  {
   "cell_type": "code",
   "execution_count": null,
   "metadata": {},
   "outputs": [],
   "source": [
    "import matplotlib\n",
    "matplotlib.use('TKAgg')\n",
    "from matplotlib import pyplot as plt\n",
    "\n",
    "from tqdm import tqdm\n",
    "import networkx as nx"
   ]
  },
  {
   "cell_type": "code",
   "execution_count": null,
   "metadata": {},
   "outputs": [],
   "source": [
    "from libcolgraph import *"
   ]
  },
  {
   "cell_type": "markdown",
   "metadata": {},
   "source": [
    "### Let's define some functions to generate particular kinds of graphs"
   ]
  },
  {
   "cell_type": "markdown",
   "metadata": {},
   "source": [
    "#### 1. 'wheel graph' (n): \n",
    "this kind of graph has $n$ vertices, one of them a 'central' vertex. $n-1$ vertices form a ring, and the central vertex connects to each of the $n-1$ vertices to complete the spokes of the wheel."
   ]
  },
  {
   "cell_type": "code",
   "execution_count": null,
   "metadata": {},
   "outputs": [],
   "source": [
    "def wheelgraph(n):       \n",
    "    '''\n",
    "    this kind of graph has $n$ vertices, one of them a 'central' vertex. $n-1$ vertices form a ring, \n",
    "    and the central vertex connects to each of the $n-1$ vertices to complete the spokes of the wheel.\n",
    "    g = BaseGraph()     \n",
    "    for i in range(n):                                            \n",
    "        g.add_vertex(i)                                          \n",
    "    for a, b in zip(range(n), [n-1, *range(n-1)]):                         \n",
    "        if a != b: g.make_edge(*sorted([a, b]))                      \n",
    "        g.add_vertex(n)                                                  \n",
    "    for i in range(n):  \n",
    "        if i != n: g.make_edge(i, n)\n",
    "    return g\n",
    "    '''\n",
    "    g = BaseGraph()\n",
    "    g.load_from_nx(nx.wheel_graph(n))\n",
    "    return g"
   ]
  },
  {
   "cell_type": "markdown",
   "metadata": {},
   "source": [
    "#### 2. wheel with one missing spoke"
   ]
  },
  {
   "cell_type": "code",
   "execution_count": null,
   "metadata": {},
   "outputs": [],
   "source": [
    "def wheelgraphmissingspoke(n):       \n",
    "    '''\n",
    "    this kind of graph has $n$ vertices, one of them a 'central' vertex. $n-1$ vertices form a ring, \n",
    "    and the central vertex connects to each of the $n-1$ vertices to complete the spokes of the wheel.\n",
    "    '''\n",
    "    g = BaseGraph()     \n",
    "    for i in range(n):                                            \n",
    "        g.add_vertex(i)                                          \n",
    "    for a, b in zip(range(n), [n-1, *range(n-1)]):                         \n",
    "        if a != b: g.make_edge(*sorted([a, b]))                      \n",
    "        g.add_vertex(n)                                                  \n",
    "    for i in range(1, n):  \n",
    "        if i != n: g.make_edge(i, n)\n",
    "    return g"
   ]
  },
  {
   "cell_type": "markdown",
   "metadata": {},
   "source": [
    "#### 3. n-dimensional hypercube: "
   ]
  },
  {
   "cell_type": "code",
   "execution_count": null,
   "metadata": {},
   "outputs": [],
   "source": [
    "def hypercubegraph(n):\n",
    "    '''\n",
    "    n-dimensional hypercube\n",
    "    '''\n",
    "    g = BaseGraph()\n",
    "    g.load_from_nx(nx.hypercube_graph(n))\n",
    "    return g"
   ]
  },
  {
   "cell_type": "markdown",
   "metadata": {},
   "source": [
    "### Now we'll create a convenient way to generate sequences"
   ]
  },
  {
   "cell_type": "code",
   "execution_count": null,
   "metadata": {},
   "outputs": [],
   "source": [
    "def make_sequence(graphgen, *args, k=3, low=3, high=15, **kwargs):\n",
    "    '''\n",
    "    a function that accepts a graph generating function to generate the appropriate basegraph for parameter\n",
    "    n from low to high, and then calls 'build_coloring_graph' on it with parameter k, the number of colors \n",
    "    '''\n",
    "    for n in tqdm(range(low, high)):\n",
    "        g = graphgen(n, *args, **kwargs)\n",
    "        c = g.build_coloring_graph(k)\n",
    "        yield len(c)"
   ]
  },
  {
   "cell_type": "markdown",
   "metadata": {},
   "source": [
    "### Time for some test runs!"
   ]
  },
  {
   "cell_type": "markdown",
   "metadata": {},
   "source": [
    "Let's look at the sequence of ColoringGraph sizes (graph of vertex colorings) of 'wheel' graphs with\n",
    "4 colors"
   ]
  },
  {
   "cell_type": "code",
   "execution_count": null,
   "metadata": {},
   "outputs": [],
   "source": [
    "wheel3 = [*make_sequence(wheelgraph, k=3, low=1, high=27)]"
   ]
  },
  {
   "cell_type": "code",
   "execution_count": null,
   "metadata": {},
   "outputs": [],
   "source": [
    "wheel3"
   ]
  },
  {
   "cell_type": "code",
   "execution_count": null,
   "metadata": {},
   "outputs": [],
   "source": [
    "%matplotlib inline\n",
    "plt.plot(range(3, 20), wheel3, 'bo-.')"
   ]
  },
  {
   "cell_type": "code",
   "execution_count": null,
   "metadata": {},
   "outputs": [],
   "source": [
    "wheel4 = [*make_sequence(wheelgraph, k=4, low=3, high=14)]"
   ]
  },
  {
   "cell_type": "code",
   "execution_count": null,
   "metadata": {},
   "outputs": [],
   "source": [
    "wheel4"
   ]
  },
  {
   "cell_type": "markdown",
   "metadata": {},
   "source": [
    "As you might figure out with some searching, this corresponds to [OEIS::A090860](http://oeis.org/A090860)\n",
    "with the description: \n",
    "\n",
    "_Number of ways of 4-coloring a map in which there is a central circle surrounded by an annulus divided into n-1 regions. There are n regions in all._"
   ]
  },
  {
   "cell_type": "code",
   "execution_count": null,
   "metadata": {},
   "outputs": [],
   "source": [
    "%matplotlib inline\n",
    "plt.plot(range(3, 14), wheel4, 'bo-.')"
   ]
  },
  {
   "cell_type": "markdown",
   "metadata": {},
   "source": [
    "The 5-color analogue of this isn't listed on OEIS (yet). Let us generate it anyway:"
   ]
  },
  {
   "cell_type": "code",
   "execution_count": null,
   "metadata": {},
   "outputs": [],
   "source": [
    "wheel5 = [*make_sequence(wheelgraph, k=5, low=3, high=12)]"
   ]
  },
  {
   "cell_type": "code",
   "execution_count": null,
   "metadata": {},
   "outputs": [],
   "source": [
    "wheel5"
   ]
  },
  {
   "cell_type": "markdown",
   "metadata": {},
   "source": [
    "As you might observe if you actually tried running this notebook, this is pretty time consuming to compute, so we will avoid computing the sequence to a longer length and stick to few terms. If you have plenty of time and compute power, feel free to play around with it for longer to get more terms of the sequence."
   ]
  },
  {
   "cell_type": "code",
   "execution_count": null,
   "metadata": {},
   "outputs": [],
   "source": [
    "%matplotlib inline\n",
    "plt.plot(range(3, 12), wheel5, 'bo-.')"
   ]
  },
  {
   "cell_type": "code",
   "execution_count": null,
   "metadata": {},
   "outputs": [],
   "source": [
    "cube3_3 = [*make_sequence(hypercubegraph, k=3, low=0, high=6)]"
   ]
  },
  {
   "cell_type": "code",
   "execution_count": null,
   "metadata": {},
   "outputs": [],
   "source": [
    "cube3_3"
   ]
  },
  {
   "cell_type": "code",
   "execution_count": null,
   "metadata": {},
   "outputs": [],
   "source": [
    "%matplotlib inline\n",
    "plt.plot(range(6), cube3_3, 'bo-.')"
   ]
  }
 ],
 "metadata": {
  "kernelspec": {
   "display_name": "Python 3",
   "language": "python",
   "name": "python3"
  },
  "language_info": {
   "codemirror_mode": {
    "name": "ipython",
    "version": 3
   },
   "file_extension": ".py",
   "mimetype": "text/x-python",
   "name": "python",
   "nbconvert_exporter": "python",
   "pygments_lexer": "ipython3",
   "version": "3.5.2"
  }
 },
 "nbformat": 4,
 "nbformat_minor": 2
}
